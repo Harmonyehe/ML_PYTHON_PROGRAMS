{
 "cells": [
  {
   "cell_type": "code",
   "execution_count": 61,
   "id": "b327faee-db75-42ad-ad4e-af1aee229365",
   "metadata": {},
   "outputs": [
    {
     "name": "stdout",
     "output_type": "stream",
     "text": [
      "Training set shape: (712, 7)\n",
      "Testing set shape: (179, 7)\n"
     ]
    }
   ],
   "source": [
    "import pandas as pd \n",
    "from sklearn.preprocessing import LabelEncoder, StandardScaler \n",
    "from sklearn.model_selection import train_test_split \n",
    "# Load the dataset \n",
    "data = pd.read_csv('train.csv') \n",
    "# Perform any necessary data cleaning steps \n",
    "# Example: Removing unnecessary columns \n",
    "data = data.drop(['PassengerId', 'Name', 'Ticket', 'Cabin'], axis=1) \n",
    "# Handle missing values \n",
    "data['Age'].fillna(data['Age'].mean()) \n",
    "data['Embarked'].fillna(data['Embarked'].mode()[0]) \n",
    "# Split the dataset into features and labels \n",
    "X = data.drop('Survived', axis=1) \n",
    "y = data['Survived'] \n",
    "# Perform label encoding for categorical variables \n",
    "encoder = LabelEncoder() \n",
    "categorical_cols = ['Sex', 'Embarked'] \n",
    "for col in categorical_cols: \n",
    "    X[col] = encoder.fit_transform(X[col]) \n",
    "# Perform feature scaling \n",
    "scaler = StandardScaler() \n",
    "X_scaled = scaler.fit_transform(X) \n",
    "# Split the dataset into training and testing sets \n",
    "X_train, X_test, y_train, y_test = train_test_split(X_scaled, y, test_size=0.2, \n",
    "random_state=42) \n",
    "# Print the shapes of the training and testing sets \n",
    "print(\"Training set shape:\", X_train.shape) \n",
    "print(\"Testing set shape:\", X_test.shape) "
   ]
  },
  {
   "cell_type": "code",
   "execution_count": null,
   "id": "20107666-ab96-451d-ae08-a59e6d437cea",
   "metadata": {},
   "outputs": [],
   "source": []
  }
 ],
 "metadata": {
  "kernelspec": {
   "display_name": "Python 3 (ipykernel)",
   "language": "python",
   "name": "python3"
  },
  "language_info": {
   "codemirror_mode": {
    "name": "ipython",
    "version": 3
   },
   "file_extension": ".py",
   "mimetype": "text/x-python",
   "name": "python",
   "nbconvert_exporter": "python",
   "pygments_lexer": "ipython3",
   "version": "3.12.4"
  }
 },
 "nbformat": 4,
 "nbformat_minor": 5
}
